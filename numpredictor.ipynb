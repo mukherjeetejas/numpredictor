{
 "cells": [
  {
   "cell_type": "code",
   "execution_count": 9,
   "metadata": {},
   "outputs": [],
   "source": [
    "import tensorflow as tf\n",
    "mnist = tf.keras.datasets.mnist"
   ]
  },
  {
   "cell_type": "code",
   "execution_count": 32,
   "metadata": {},
   "outputs": [
    {
     "name": "stdout",
     "output_type": "stream",
     "text": [
      "Epoch 1/3\n",
      "60000/60000 [==============================] - 3s 47us/sample - loss: 0.2606 - acc: 0.9233\n",
      "Epoch 2/3\n",
      "60000/60000 [==============================] - 3s 45us/sample - loss: 0.1071 - acc: 0.9669\n",
      "Epoch 3/3\n",
      "60000/60000 [==============================] - 3s 44us/sample - loss: 0.0730 - acc: 0.9775\n"
     ]
    },
    {
     "data": {
      "text/plain": [
       "<tensorflow.python.keras.callbacks.History at 0x1f9950f1f08>"
      ]
     },
     "execution_count": 32,
     "metadata": {},
     "output_type": "execute_result"
    }
   ],
   "source": [
    "(x_train,y_train),(x_test,y_test)=mnist.load_data()\n",
    "x_train=tf.keras.utils.normalize(x_train,axis=1)\n",
    "x_test=tf.keras.utils.normalize(x_test,axis=1)\n",
    "model=tf.keras.models.Sequential()\n",
    "model.add(tf.keras.layers.Flatten(input_shape=(28, 28)))\n",
    "model.add(tf.keras.layers.Dense(128,activation=tf.nn.relu))\n",
    "model.add(tf.keras.layers.Dense(128,activation=tf.nn.relu))\n",
    "model.add(tf.keras.layers.Dense(10,activation=tf.nn.softmax))\n",
    "\n",
    "model.compile(optimizer='adam',\n",
    "             loss='sparse_categorical_crossentropy',\n",
    "             metrics=['accuracy'])\n",
    "\n",
    "model.fit(x_train,y_train,epochs=3)"
   ]
  },
  {
   "cell_type": "code",
   "execution_count": 33,
   "metadata": {},
   "outputs": [
    {
     "name": "stdout",
     "output_type": "stream",
     "text": [
      "10000/10000 [==============================] - 0s 26us/sample - loss: 0.0945 - acc: 0.9714\n",
      "0.09451666614599526 0.9714\n"
     ]
    }
   ],
   "source": [
    "val_loss,val_acc=model.evaluate(x_test,y_test)\n",
    "print(val_loss,val_acc)"
   ]
  },
  {
   "cell_type": "code",
   "execution_count": 34,
   "metadata": {},
   "outputs": [],
   "source": [
    "import matplotlib.pyplot as plt"
   ]
  },
  {
   "cell_type": "code",
   "execution_count": 35,
   "metadata": {},
   "outputs": [
    {
     "data": {
      "text/plain": [
       "<function matplotlib.pyplot.show(*args, **kw)>"
      ]
     },
     "execution_count": 35,
     "metadata": {},
     "output_type": "execute_result"
    },
    {
     "data": {
      "image/png": "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\n",
      "text/plain": [
       "<Figure size 432x288 with 1 Axes>"
      ]
     },
     "metadata": {
      "needs_background": "light"
     },
     "output_type": "display_data"
    }
   ],
  {
   "cell_type": "code",
   "execution_count": 36,
   "metadata": {},
   "outputs": [],
   "source": [
    "model.save('epic_num_reader.model')"
   ]
  },
  {
   "cell_type": "code",
   "execution_count": 37,
   "metadata": {},
   "outputs": [],
   "source": [
    "new_model = tf.keras.models.load_model('epic_num_reader.model')"
   ]
  },
  {
   "cell_type": "code",
   "execution_count": 38,
   "metadata": {},
   "outputs": [],
   "source": [
    "predictions = new_model.predict([x_test])"
   ]
  },
  {
   "cell_type": "code",
   "execution_count": 39,
   "metadata": {},
   "outputs": [
    {
     "name": "stdout",
     "output_type": "stream",
     "text": [
      "[[1.82466242e-09 1.06470964e-06 1.79600720e-05 ... 9.99974370e-01\n",
      "  3.77850313e-07 5.62649120e-07]\n",
      " [5.61915137e-09 6.52924413e-04 9.99334991e-01 ... 1.10456666e-08\n",
      "  1.59747015e-06 9.84951530e-12]\n",
      " [2.67713389e-08 9.99837995e-01 2.28688332e-05 ... 1.00286605e-04\n",
      "  5.74883734e-06 1.14153970e-07]\n",
      " ...\n",
      " [5.18727283e-09 9.12064661e-06 8.91025849e-08 ... 2.76326027e-05\n",
      "  1.39149797e-05 3.03673096e-06]\n",
      " [2.95500922e-06 5.30243199e-07 2.19556796e-06 ... 4.57507298e-07\n",
      "  1.02066799e-04 6.50828991e-09]\n",
      " [1.06967673e-06 7.35481365e-08 8.68778471e-08 ... 7.06056658e-10\n",
      "  6.55346128e-07 2.96023686e-08]]\n"
     ]
    }
   ],
   "source": [
    "print(predictions)"
   ]
  },
  {
   "cell_type": "code",
   "execution_count": 43,
   "metadata": {},
   "outputs": [
    {
     "name": "stdout",
     "output_type": "stream",
     "text": [
      "9\n"
     ]
    }
   ],
   "source": [
    "import numpy as np\n",
    "print(np.argmax(predictions[9]))"
   ]
  },
  {
   "cell_type": "code",
   "execution_count": 44,
   "metadata": {},
   "outputs": [
    {
     "data": {
      "text/plain": [
       "<function matplotlib.pyplot.show(*args, **kw)>"
      ]
     },
     "execution_count": 44,
     "metadata": {},
     "output_type": "execute_result"
    },
    {
     "data": {
      "image/png": "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\n",
      "text/plain": [
       "<Figure size 432x288 with 1 Axes>"
      ]
     },
     "metadata": {
      "needs_background": "light"
     },
     "output_type": "display_data"
    }
   ],
   "source": [
    "plt.imshow(x_test[9],cmap=plt.cm.binary)\n",
    "plt.show"
   ]
  },
  {
   "cell_type": "code",
   "execution_count": null,
   "metadata": {},
   "outputs": [],
   "source": []
  }
 ],
 "metadata": {
  "kernelspec": {
   "display_name": "Python 3",
   "language": "python",
   "name": "python3"
  },
  "language_info": {
   "codemirror_mode": {
    "name": "ipython",
    "version": 3
   },
   "file_extension": ".py",
   "mimetype": "text/x-python",
   "name": "python",
   "nbconvert_exporter": "python",
   "pygments_lexer": "ipython3",
   "version": "3.7.4"
  }
 },
 "nbformat": 4,
 "nbformat_minor": 2
}
